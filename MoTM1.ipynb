{
  "nbformat": 4,
  "nbformat_minor": 0,
  "metadata": {
    "colab": {
      "name": "MoTM1.ipynb",
      "provenance": [],
      "collapsed_sections": []
    },
    "kernelspec": {
      "name": "python3",
      "display_name": "Python 3"
    }
  },
  "cells": [
    {
      "cell_type": "code",
      "metadata": {
        "id": "wzZ3xNOpNXuc",
        "colab_type": "code",
        "colab": {}
      },
      "source": [
        "import pandas as pd\n",
        "import numpy as np\n",
        "import seaborn as sns\n",
        "import matplotlib.pyplot as plt"
      ],
      "execution_count": 0,
      "outputs": []
    },
    {
      "cell_type": "code",
      "metadata": {
        "id": "hMPH0bDDNhTP",
        "colab_type": "code",
        "colab": {}
      },
      "source": [
        "football = pd.read_csv(\"/content/FIFA 2018 Statistics.csv\")"
      ],
      "execution_count": 0,
      "outputs": []
    },
    {
      "cell_type": "code",
      "metadata": {
        "id": "NgnDeADYNstu",
        "colab_type": "code",
        "colab": {}
      },
      "source": [
        "numerical_features   = football.select_dtypes(include = [np.number]).columns\n",
        "categorical_features = football.select_dtypes(include= [np.object]).columns"
      ],
      "execution_count": 0,
      "outputs": []
    },
    {
      "cell_type": "code",
      "metadata": {
        "id": "CoCkpGS9OFbM",
        "colab_type": "code",
        "colab": {}
      },
      "source": [
        "football['Man of the Match'] = football['Man of the Match'].map({'Yes': 1, 'No': 0})\n",
        "football[\"PSO\"] = football[\"PSO\"].map({'Yes': 1, 'No': 0})"
      ],
      "execution_count": 0,
      "outputs": []
    },
    {
      "cell_type": "code",
      "metadata": {
        "id": "UBPH0cNNOWlE",
        "colab_type": "code",
        "outputId": "3e642803-b2e7-4bfd-a2f6-74c5c29c96ea",
        "colab": {
          "base_uri": "https://localhost:8080/",
          "height": 420
        }
      },
      "source": [
        "corr = football.corr()\n",
        "corr = corr.filter(items = ['Man of the Match'])\n",
        "#plt.figure(figsize=(15,8))\n",
        "#sns.heatmap(corr, annot=True)\n",
        "print(corr)\n"
      ],
      "execution_count": 0,
      "outputs": [
        {
          "output_type": "stream",
          "text": [
            "                        Man of the Match\n",
            "Goal Scored                     0.522193\n",
            "Ball Possession %               0.110393\n",
            "Attempts                        0.176425\n",
            "On-Target                       0.291346\n",
            "Off-Target                      0.152979\n",
            "Blocked                        -0.019582\n",
            "Corners                         0.173148\n",
            "Offsides                        0.026288\n",
            "Free Kicks                      0.119534\n",
            "Saves                          -0.034443\n",
            "Pass Accuracy %                 0.109709\n",
            "Passes                          0.101421\n",
            "Distance Covered (Kms)          0.015353\n",
            "Fouls Committed                -0.129047\n",
            "Yellow Card                    -0.147934\n",
            "Yellow & Red                    0.000000\n",
            "Red                            -0.125988\n",
            "Man of the Match                1.000000\n",
            "1st Goal                        0.009802\n",
            "PSO                             0.000000\n",
            "Goals in PSO                    0.038873\n",
            "Own goals                            NaN\n",
            "Own goal Time                  -0.186824\n"
          ],
          "name": "stdout"
        }
      ]
    },
    {
      "cell_type": "code",
      "metadata": {
        "id": "2V5FeQGCPFPe",
        "colab_type": "code",
        "outputId": "efbcdbad-7371-463a-a88d-010d6d34eb9f",
        "colab": {
          "base_uri": "https://localhost:8080/",
          "height": 185
        }
      },
      "source": [
        "for i in corr.index:\n",
        "  if (((corr.loc[i].at[\"Man of the Match\"] < 0.12) and (corr.loc[i].at[\"Man of the Match\"] > 0)) or ((corr.loc[i].at[\"Man of the Match\"] > -0.12) and (corr.loc[i].at[\"Man of the Match\"] <= 0))):\n",
        "    corr.drop(index = i, inplace = True)\n",
        "corr.drop(index = [\"Own goals\", \"Own goal Time\"], inplace = True)\n",
        "print(corr)"
      ],
      "execution_count": 0,
      "outputs": [
        {
          "output_type": "stream",
          "text": [
            "                  Man of the Match\n",
            "Goal Scored               0.522193\n",
            "Attempts                  0.176425\n",
            "On-Target                 0.291346\n",
            "Off-Target                0.152979\n",
            "Corners                   0.173148\n",
            "Fouls Committed          -0.129047\n",
            "Yellow Card              -0.147934\n",
            "Red                      -0.125988\n",
            "Man of the Match          1.000000\n"
          ],
          "name": "stdout"
        }
      ]
    },
    {
      "cell_type": "code",
      "metadata": {
        "id": "SFUik6mKR7V2",
        "colab_type": "code",
        "outputId": "da77e4fe-67b5-4dae-9920-ddd76c862ff1",
        "colab": {
          "base_uri": "https://localhost:8080/",
          "height": 420
        }
      },
      "source": [
        "for i in football.columns:\n",
        "  if ((i not in corr.index) and (i not in [\"Team\", \"Opponent\"])):\n",
        "    print(i)\n",
        "    football.drop(columns = i, inplace = True)\n",
        "print(football.head())"
      ],
      "execution_count": 0,
      "outputs": [
        {
          "output_type": "stream",
          "text": [
            "Date\n",
            "Ball Possession %\n",
            "Blocked\n",
            "Offsides\n",
            "Free Kicks\n",
            "Saves\n",
            "Pass Accuracy %\n",
            "Passes\n",
            "Distance Covered (Kms)\n",
            "Yellow & Red\n",
            "1st Goal\n",
            "Round\n",
            "PSO\n",
            "Goals in PSO\n",
            "Own goals\n",
            "Own goal Time\n",
            "           Team      Opponent  Goal Scored  ...  Yellow Card  Red  Man of the Match\n",
            "0        Russia  Saudi Arabia            5  ...            0    0                 1\n",
            "1  Saudi Arabia        Russia            0  ...            0    0                 0\n",
            "2         Egypt       Uruguay            0  ...            2    0                 0\n",
            "3       Uruguay         Egypt            1  ...            0    0                 1\n",
            "4       Morocco          Iran            0  ...            1    0                 0\n",
            "\n",
            "[5 rows x 11 columns]\n"
          ],
          "name": "stdout"
        }
      ]
    },
    {
      "cell_type": "code",
      "metadata": {
        "id": "YIEUErn7OXyH",
        "colab_type": "code",
        "outputId": "6d669cf8-48f0-4175-d110-4d1ff2066e38",
        "colab": {
          "base_uri": "https://localhost:8080/",
          "height": 151
        }
      },
      "source": [
        "football = pd.get_dummies(football)\n",
        "print(football.head())"
      ],
      "execution_count": 0,
      "outputs": [
        {
          "output_type": "stream",
          "text": [
            "   Goal Scored  Attempts  ...  Opponent_Tunisia  Opponent_Uruguay\n",
            "0            5        13  ...                 0                 0\n",
            "1            0         6  ...                 0                 0\n",
            "2            0         8  ...                 0                 1\n",
            "3            1        14  ...                 0                 0\n",
            "4            0        13  ...                 0                 0\n",
            "\n",
            "[5 rows x 73 columns]\n"
          ],
          "name": "stdout"
        }
      ]
    },
    {
      "cell_type": "code",
      "metadata": {
        "id": "Zfnc8yI4LF9d",
        "colab_type": "code",
        "outputId": "15fd5aca-faff-4c31-f5dc-48c0eae44a1f",
        "colab": {
          "base_uri": "https://localhost:8080/",
          "height": 34
        }
      },
      "source": [
        "Y = football.loc[:, [\"Man of the Match\"]]\n",
        "X = football.drop(columns = \"Man of the Match\", axis = 1)\n",
        "print(X.shape, Y.shape)"
      ],
      "execution_count": 0,
      "outputs": [
        {
          "output_type": "stream",
          "text": [
            "(128, 72) (128, 1)\n"
          ],
          "name": "stdout"
        }
      ]
    },
    {
      "cell_type": "code",
      "metadata": {
        "id": "2-RpCsh5Xk9_",
        "colab_type": "code",
        "outputId": "0a4f5fd2-2a94-432c-f8e1-ecd67bcfa38e",
        "colab": {
          "base_uri": "https://localhost:8080/",
          "height": 34
        }
      },
      "source": [
        "from sklearn.model_selection import train_test_split\n",
        "X_train, X_test, Y_train, Y_test = train_test_split(X, Y, test_size = 0.25, random_state = 42)\n",
        "print (X_train.shape, X_test.shape, Y_train.shape, Y_test.shape)"
      ],
      "execution_count": 0,
      "outputs": [
        {
          "output_type": "stream",
          "text": [
            "(96, 72) (32, 72) (96, 1) (32, 1)\n"
          ],
          "name": "stdout"
        }
      ]
    },
    {
      "cell_type": "code",
      "metadata": {
        "id": "Rux1Ic0GXtsO",
        "colab_type": "code",
        "outputId": "dcd9511d-7b50-496b-f911-1887bb8f6555",
        "colab": {
          "base_uri": "https://localhost:8080/",
          "height": 205
        }
      },
      "source": [
        "from sklearn.linear_model import LogisticRegression\n",
        "clf = LogisticRegression(random_state=0, max_iter = 1000).fit(X_train, Y_train)\n",
        "Y_pred = clf.predict(X_test)"
      ],
      "execution_count": 0,
      "outputs": [
        {
          "output_type": "stream",
          "text": [
            "/usr/local/lib/python3.6/dist-packages/sklearn/utils/validation.py:760: DataConversionWarning: A column-vector y was passed when a 1d array was expected. Please change the shape of y to (n_samples, ), for example using ravel().\n",
            "  y = column_or_1d(y, warn=True)\n",
            "/usr/local/lib/python3.6/dist-packages/sklearn/linear_model/_logistic.py:940: ConvergenceWarning: lbfgs failed to converge (status=1):\n",
            "STOP: TOTAL NO. of ITERATIONS REACHED LIMIT.\n",
            "\n",
            "Increase the number of iterations (max_iter) or scale the data as shown in:\n",
            "    https://scikit-learn.org/stable/modules/preprocessing.html\n",
            "Please also refer to the documentation for alternative solver options:\n",
            "    https://scikit-learn.org/stable/modules/linear_model.html#logistic-regression\n",
            "  extra_warning_msg=_LOGISTIC_SOLVER_CONVERGENCE_MSG)\n"
          ],
          "name": "stderr"
        }
      ]
    },
    {
      "cell_type": "code",
      "metadata": {
        "id": "QCHFWbDuXyTA",
        "colab_type": "code",
        "outputId": "4f61c00a-cc3e-4b5e-fe09-dfca403a6b8c",
        "colab": {
          "base_uri": "https://localhost:8080/",
          "height": 50
        }
      },
      "source": [
        "from sklearn.metrics import confusion_matrix\n",
        "cm = confusion_matrix(Y_test, Y_pred)\n",
        "print(cm)\n",
        "#LogisticRegression"
      ],
      "execution_count": 0,
      "outputs": [
        {
          "output_type": "stream",
          "text": [
            "[[11  3]\n",
            " [ 5 13]]\n"
          ],
          "name": "stdout"
        }
      ]
    },
    {
      "cell_type": "code",
      "metadata": {
        "id": "2QkNgI_RX2ED",
        "colab_type": "code",
        "outputId": "945fa033-a9d9-4c9e-96e6-0817f0330cfc",
        "colab": {
          "base_uri": "https://localhost:8080/",
          "height": 70
        }
      },
      "source": [
        "from sklearn import svm\n",
        "clf = svm.SVC(random_state=0, kernel=\"linear\").fit(X_train, Y_train)\n",
        "Y_pred = clf.predict(X_test)"
      ],
      "execution_count": 0,
      "outputs": [
        {
          "output_type": "stream",
          "text": [
            "/usr/local/lib/python3.6/dist-packages/sklearn/utils/validation.py:760: DataConversionWarning: A column-vector y was passed when a 1d array was expected. Please change the shape of y to (n_samples, ), for example using ravel().\n",
            "  y = column_or_1d(y, warn=True)\n"
          ],
          "name": "stderr"
        }
      ]
    },
    {
      "cell_type": "code",
      "metadata": {
        "id": "kHVBFLZ3ao8g",
        "colab_type": "code",
        "outputId": "98fea365-6e87-48f6-ff62-40a51533d2d3",
        "colab": {
          "base_uri": "https://localhost:8080/",
          "height": 50
        }
      },
      "source": [
        "cm = confusion_matrix(Y_test, Y_pred)\n",
        "print(cm)\n",
        "#SVM"
      ],
      "execution_count": 0,
      "outputs": [
        {
          "output_type": "stream",
          "text": [
            "[[12  2]\n",
            " [ 5 13]]\n"
          ],
          "name": "stdout"
        }
      ]
    },
    {
      "cell_type": "code",
      "metadata": {
        "id": "euoQY9l5arnA",
        "colab_type": "code",
        "colab": {}
      },
      "source": [
        "from sklearn import tree\n",
        "clf = tree.DecisionTreeClassifier(criterion=\"entropy\", max_features=7, random_state=0).fit(X_train, Y_train)\n",
        "Y_pred = clf.predict(X_test)"
      ],
      "execution_count": 0,
      "outputs": []
    },
    {
      "cell_type": "code",
      "metadata": {
        "id": "STpnzGIWb4cU",
        "colab_type": "code",
        "outputId": "330d1e63-187b-422f-902d-fcccc348ee6d",
        "colab": {
          "base_uri": "https://localhost:8080/",
          "height": 50
        }
      },
      "source": [
        "cm = confusion_matrix(Y_test, Y_pred)\n",
        "print(cm)\n",
        "#Decision Tree Classifier 1"
      ],
      "execution_count": 0,
      "outputs": [
        {
          "output_type": "stream",
          "text": [
            "[[12  2]\n",
            " [ 4 14]]\n"
          ],
          "name": "stdout"
        }
      ]
    },
    {
      "cell_type": "code",
      "metadata": {
        "id": "eyRzotDegQRk",
        "colab_type": "code",
        "colab": {}
      },
      "source": [
        "clf = tree.DecisionTreeClassifier(criterion=\"entropy\", max_features=67, splitter=\"random\", random_state=0).fit(X_train, Y_train)\n",
        "Y_pred = clf.predict(X_test)"
      ],
      "execution_count": 0,
      "outputs": []
    },
    {
      "cell_type": "code",
      "metadata": {
        "id": "Pm47jidJglHV",
        "colab_type": "code",
        "outputId": "b9fa6c8f-1412-4804-90d6-d3e05f1d25ae",
        "colab": {
          "base_uri": "https://localhost:8080/",
          "height": 50
        }
      },
      "source": [
        "cm = confusion_matrix(Y_test, Y_pred)\n",
        "print(cm)\n",
        "#Decision Tree Classifier 2 best config - criterion=\"entropy\", max_features=67, splitter=\"random\", random_state=0"
      ],
      "execution_count": 0,
      "outputs": [
        {
          "output_type": "stream",
          "text": [
            "[[12  2]\n",
            " [ 3 15]]\n"
          ],
          "name": "stdout"
        }
      ]
    },
    {
      "cell_type": "code",
      "metadata": {
        "id": "5UBkKwC9dAi8",
        "colab_type": "code",
        "outputId": "a8ff6f46-c3d8-4a60-dbeb-3d28d93d1237",
        "colab": {
          "base_uri": "https://localhost:8080/",
          "height": 1000
        }
      },
      "source": [
        "#for i in range(1, 73):\n",
        "#  clf = tree.DecisionTreeClassifier(criterion=\"entropy\", splitter=\"random\", max_features=i, random_state=0).fit(X_train, Y_train)\n",
        "#  Y_pred = clf.predict(X_test)\n",
        "#  cm = confusion_matrix(Y_test, Y_pred)\n",
        "#  accuracy = (cm[0][0] + cm[1][1])/(cm[1][0] + cm[0][0] + cm[1][1] + cm[0][1])\n",
        "#  print(accuracy, i)"
      ],
      "execution_count": 0,
      "outputs": [
        {
          "output_type": "stream",
          "text": [
            "0.625 1\n",
            "0.5625 2\n",
            "0.53125 3\n",
            "0.4375 4\n",
            "0.75 5\n",
            "0.8125 6\n",
            "0.5625 7\n",
            "0.71875 8\n",
            "0.625 9\n",
            "0.71875 10\n",
            "0.625 11\n",
            "0.625 12\n",
            "0.75 13\n",
            "0.71875 14\n",
            "0.625 15\n",
            "0.65625 16\n",
            "0.71875 17\n",
            "0.65625 18\n",
            "0.53125 19\n",
            "0.78125 20\n",
            "0.625 21\n",
            "0.75 22\n",
            "0.6875 23\n",
            "0.78125 24\n",
            "0.8125 25\n",
            "0.75 26\n",
            "0.65625 27\n",
            "0.75 28\n",
            "0.78125 29\n",
            "0.6875 30\n",
            "0.75 31\n",
            "0.65625 32\n",
            "0.6875 33\n",
            "0.71875 34\n",
            "0.65625 35\n",
            "0.75 36\n",
            "0.6875 37\n",
            "0.78125 38\n",
            "0.78125 39\n",
            "0.8125 40\n",
            "0.65625 41\n",
            "0.75 42\n",
            "0.71875 43\n",
            "0.71875 44\n",
            "0.71875 45\n",
            "0.6875 46\n",
            "0.65625 47\n",
            "0.75 48\n",
            "0.5 49\n",
            "0.71875 50\n",
            "0.625 51\n",
            "0.75 52\n",
            "0.78125 53\n",
            "0.71875 54\n",
            "0.84375 55\n",
            "0.6875 56\n",
            "0.8125 57\n",
            "0.6875 58\n",
            "0.65625 59\n",
            "0.65625 60\n",
            "0.625 61\n",
            "0.6875 62\n",
            "0.59375 63\n",
            "0.5625 64\n",
            "0.6875 65\n",
            "0.75 66\n",
            "0.84375 67\n",
            "0.71875 68\n",
            "0.71875 69\n",
            "0.8125 70\n",
            "0.8125 71\n",
            "0.71875 72\n"
          ],
          "name": "stdout"
        }
      ]
    },
    {
      "cell_type": "code",
      "metadata": {
        "id": "rCw1vJbCfkP-",
        "colab_type": "code",
        "outputId": "e784e7ef-d96e-44e0-82fe-c8e45368bfd2",
        "colab": {
          "base_uri": "https://localhost:8080/",
          "height": 87
        }
      },
      "source": [
        "from sklearn import ensemble\n",
        "from sklearn.metrics import confusion_matrix\n",
        "clf = ensemble.RandomForestClassifier(n_estimators=1000).fit(X_train, Y_train.to_numpy().ravel())\n",
        "Y_pred = clf.predict(X_test)"
      ],
      "execution_count": 0,
      "outputs": [
        {
          "output_type": "stream",
          "text": [
            "/usr/local/lib/python3.6/dist-packages/ipykernel_launcher.py:3: DataConversionWarning: A column-vector y was passed when a 1d array was expected. Please change the shape of y to (n_samples,), for example using ravel().\n",
            "  This is separate from the ipykernel package so we can avoid doing imports until\n"
          ],
          "name": "stderr"
        },
        {
          "output_type": "stream",
          "text": [
            "0.78125\n"
          ],
          "name": "stdout"
        }
      ]
    },
    {
      "cell_type": "code",
      "metadata": {
        "id": "AJ42Q9jSrPXH",
        "colab_type": "code",
        "outputId": "82584efb-96d0-479c-9ef9-749db0295952",
        "colab": {
          "base_uri": "https://localhost:8080/",
          "height": 50
        }
      },
      "source": [
        "cm = confusion_matrix(Y_test, Y_pred)\n",
        "print(cm)\n",
        "#Random Forest Classifier 1"
      ],
      "execution_count": 0,
      "outputs": [
        {
          "output_type": "stream",
          "text": [
            "[[12  2]\n",
            " [ 6 12]]\n"
          ],
          "name": "stdout"
        }
      ]
    },
    {
      "cell_type": "code",
      "metadata": {
        "id": "5jIHhqnyrmIJ",
        "colab_type": "code",
        "outputId": "8e154aab-1bd1-4ed3-fb93-aef172e746cb",
        "colab": {
          "base_uri": "https://localhost:8080/",
          "height": 104
        }
      },
      "source": [
        "clf = ensemble.RandomForestClassifier(n_estimators=1000, criterion = \"entropy\", max_features = \"log2\", random_state = 0).fit(X_train, Y_train.to_numpy().ravel())\n",
        "Y_pred = clf.predict(X_test)\n",
        "cm = confusion_matrix(Y_test, Y_pred)\n",
        "print(cm)\n",
        "#Random Forest Classifier 2"
      ],
      "execution_count": 0,
      "outputs": [
        {
          "output_type": "stream",
          "text": [
            "/usr/local/lib/python3.6/dist-packages/ipykernel_launcher.py:1: DataConversionWarning: A column-vector y was passed when a 1d array was expected. Please change the shape of y to (n_samples,), for example using ravel().\n",
            "  \"\"\"Entry point for launching an IPython kernel.\n"
          ],
          "name": "stderr"
        },
        {
          "output_type": "stream",
          "text": [
            "[[12  2]\n",
            " [ 5 13]]\n"
          ],
          "name": "stdout"
        }
      ]
    },
    {
      "cell_type": "code",
      "metadata": {
        "id": "x3Wm4afiygIz",
        "colab_type": "code",
        "outputId": "0a68a31b-9c0c-4b04-d8db-427d6b972dc4",
        "colab": {
          "base_uri": "https://localhost:8080/",
          "height": 67
        }
      },
      "source": [
        "clf = ensemble.RandomForestClassifier(n_estimators=1000, criterion = \"gini\", max_features = 14, random_state = 0).fit(X_train, Y_train.to_numpy().ravel())\n",
        "Y_pred = clf.predict(X_test)\n",
        "cm = confusion_matrix(Y_test, Y_pred)\n",
        "accuracy = (cm[0][0] + cm[1][1])/(cm[1][0] + cm[0][0] + cm[1][1] + cm[0][1])\n",
        "print (cm)\n",
        "#Random Forest Classifier 3"
      ],
      "execution_count": 0,
      "outputs": [
        {
          "output_type": "stream",
          "text": [
            "0.8125 1305\n",
            "[[12  2]\n",
            " [ 4 14]]\n"
          ],
          "name": "stdout"
        }
      ]
    },
    {
      "cell_type": "code",
      "metadata": {
        "id": "mAiGsP7E1g6F",
        "colab_type": "code",
        "outputId": "bb67164e-1125-49cd-ae7a-74ecf4d44f1f",
        "colab": {
          "base_uri": "https://localhost:8080/",
          "height": 50
        }
      },
      "source": [
        "from sklearn import naive_bayes\n",
        "clf = naive_bayes.GaussianNB().fit(X_train, Y_train.to_numpy().ravel())\n",
        "Y_pred = clf.predict(X_test)\n",
        "cm = confusion_matrix(Y_test, Y_pred)\n",
        "print(cm)\n",
        "#Gaussian NB"
      ],
      "execution_count": 0,
      "outputs": [
        {
          "output_type": "stream",
          "text": [
            "[[ 4 10]\n",
            " [ 4 14]]\n"
          ],
          "name": "stdout"
        }
      ]
    },
    {
      "cell_type": "code",
      "metadata": {
        "id": "99RStkgz30mH",
        "colab_type": "code",
        "outputId": "61dd81cf-6bfe-452a-d100-99a76d1d776d",
        "colab": {
          "base_uri": "https://localhost:8080/",
          "height": 50
        }
      },
      "source": [
        "clf = naive_bayes.MultinomialNB().fit(X_train, Y_train.to_numpy().ravel())\n",
        "Y_pred = clf.predict(X_test)\n",
        "cm = confusion_matrix(Y_test, Y_pred)\n",
        "print(cm)\n",
        "#Multinomial NB"
      ],
      "execution_count": 0,
      "outputs": [
        {
          "output_type": "stream",
          "text": [
            "[[ 9  5]\n",
            " [ 5 13]]\n"
          ],
          "name": "stdout"
        }
      ]
    },
    {
      "cell_type": "code",
      "metadata": {
        "id": "zabm2zz94tKI",
        "colab_type": "code",
        "outputId": "9511d265-07f2-4cae-d7d2-6415fbe2434f",
        "colab": {
          "base_uri": "https://localhost:8080/",
          "height": 50
        }
      },
      "source": [
        "clf = naive_bayes.ComplementNB().fit(X_train, Y_train.to_numpy().ravel())\n",
        "Y_pred = clf.predict(X_test)\n",
        "cm = confusion_matrix(Y_test, Y_pred)\n",
        "print(cm)\n",
        "#Complement NB"
      ],
      "execution_count": 0,
      "outputs": [
        {
          "output_type": "stream",
          "text": [
            "[[ 9  5]\n",
            " [ 5 13]]\n"
          ],
          "name": "stdout"
        }
      ]
    },
    {
      "cell_type": "code",
      "metadata": {
        "id": "AAxO-uNG5tIL",
        "colab_type": "code",
        "outputId": "802c6777-460b-412a-9a65-771964ad733f",
        "colab": {
          "base_uri": "https://localhost:8080/",
          "height": 50
        }
      },
      "source": [
        "clf = naive_bayes.BernoulliNB().fit(X_train, Y_train.to_numpy().ravel())\n",
        "Y_pred = clf.predict(X_test)\n",
        "cm = confusion_matrix(Y_test, Y_pred)\n",
        "print(cm)\n",
        "#Bernoulli NB"
      ],
      "execution_count": 0,
      "outputs": [
        {
          "output_type": "stream",
          "text": [
            "[[11  3]\n",
            " [ 5 13]]\n"
          ],
          "name": "stdout"
        }
      ]
    },
    {
      "cell_type": "code",
      "metadata": {
        "id": "SCMlHdkB6z1b",
        "colab_type": "code",
        "outputId": "eef92d13-5914-4318-e3f5-efdca8e63dee",
        "colab": {
          "base_uri": "https://localhost:8080/",
          "height": 441
        }
      },
      "source": [
        "from sklearn import ensemble\n",
        "from sklearn.metrics import confusion_matrix\n",
        "for i in range(100, 10000, 100):\n",
        "  for j in range(1, 73):\n",
        "    clf = ensemble.RandomForestClassifier(n_estimators=i, criterion = \"entropy\", max_features = j, random_state = 0).fit(X_train, Y_train.to_numpy().ravel())\n",
        "    Y_pred = clf.predict(X_test)\n",
        "    cm = confusion_matrix(Y_test, Y_pred)\n",
        "    accuracy = (cm[0][0] + cm[1][1])/(cm[1][0] + cm[0][0] + cm[1][1] + cm[0][1])\n",
        "    if (accuracy >= 0.84375):\n",
        "      print(accuracy, i, j, \"entropy\")\n",
        "\n",
        "\n",
        "    clf = ensemble.RandomForestClassifier(n_estimators=i, criterion = \"gini\", max_features = j, random_state = 0).fit(X_train, Y_train.to_numpy().ravel())\n",
        "    Y_pred = clf.predict(X_test)\n",
        "    cm = confusion_matrix(Y_test, Y_pred)\n",
        "    accuracy = (cm[0][0] + cm[1][1])/(cm[1][0] + cm[0][0] + cm[1][1] + cm[0][1])\n",
        "    if (accuracy >= 0.84375):\n",
        "      print(accuracy, i, j, \"gini\")\n",
        "\n",
        "#best config: random forest - n_estimators=100, criterion = \"gini\", max_features = 38, random_state = 0"
      ],
      "execution_count": 0,
      "outputs": [
        {
          "output_type": "stream",
          "text": [
            "0.84375 100 38 gini\n",
            "0.84375 100 41 gini\n",
            "0.84375 100 61 gini\n"
          ],
          "name": "stdout"
        },
        {
          "output_type": "error",
          "ename": "KeyboardInterrupt",
          "evalue": "ignored",
          "traceback": [
            "\u001b[0;31m---------------------------------------------------------------------------\u001b[0m",
            "\u001b[0;31mKeyboardInterrupt\u001b[0m                         Traceback (most recent call last)",
            "\u001b[0;32m<ipython-input-70-4995a609ede9>\u001b[0m in \u001b[0;36m<module>\u001b[0;34m()\u001b[0m\n\u001b[1;32m      3\u001b[0m \u001b[0;32mfor\u001b[0m \u001b[0mi\u001b[0m \u001b[0;32min\u001b[0m \u001b[0mrange\u001b[0m\u001b[0;34m(\u001b[0m\u001b[0;36m100\u001b[0m\u001b[0;34m,\u001b[0m \u001b[0;36m10000\u001b[0m\u001b[0;34m,\u001b[0m \u001b[0;36m100\u001b[0m\u001b[0;34m)\u001b[0m\u001b[0;34m:\u001b[0m\u001b[0;34m\u001b[0m\u001b[0;34m\u001b[0m\u001b[0m\n\u001b[1;32m      4\u001b[0m   \u001b[0;32mfor\u001b[0m \u001b[0mj\u001b[0m \u001b[0;32min\u001b[0m \u001b[0mrange\u001b[0m\u001b[0;34m(\u001b[0m\u001b[0;36m1\u001b[0m\u001b[0;34m,\u001b[0m \u001b[0;36m73\u001b[0m\u001b[0;34m)\u001b[0m\u001b[0;34m:\u001b[0m\u001b[0;34m\u001b[0m\u001b[0;34m\u001b[0m\u001b[0m\n\u001b[0;32m----> 5\u001b[0;31m     \u001b[0mclf\u001b[0m \u001b[0;34m=\u001b[0m \u001b[0mensemble\u001b[0m\u001b[0;34m.\u001b[0m\u001b[0mRandomForestClassifier\u001b[0m\u001b[0;34m(\u001b[0m\u001b[0mn_estimators\u001b[0m\u001b[0;34m=\u001b[0m\u001b[0mi\u001b[0m\u001b[0;34m,\u001b[0m \u001b[0mcriterion\u001b[0m \u001b[0;34m=\u001b[0m \u001b[0;34m\"entropy\"\u001b[0m\u001b[0;34m,\u001b[0m \u001b[0mmax_features\u001b[0m \u001b[0;34m=\u001b[0m \u001b[0mj\u001b[0m\u001b[0;34m,\u001b[0m \u001b[0mrandom_state\u001b[0m \u001b[0;34m=\u001b[0m \u001b[0;36m0\u001b[0m\u001b[0;34m)\u001b[0m\u001b[0;34m.\u001b[0m\u001b[0mfit\u001b[0m\u001b[0;34m(\u001b[0m\u001b[0mX_train\u001b[0m\u001b[0;34m,\u001b[0m \u001b[0mY_train\u001b[0m\u001b[0;34m.\u001b[0m\u001b[0mto_numpy\u001b[0m\u001b[0;34m(\u001b[0m\u001b[0;34m)\u001b[0m\u001b[0;34m.\u001b[0m\u001b[0mravel\u001b[0m\u001b[0;34m(\u001b[0m\u001b[0;34m)\u001b[0m\u001b[0;34m)\u001b[0m\u001b[0;34m\u001b[0m\u001b[0;34m\u001b[0m\u001b[0m\n\u001b[0m\u001b[1;32m      6\u001b[0m     \u001b[0mY_pred\u001b[0m \u001b[0;34m=\u001b[0m \u001b[0mclf\u001b[0m\u001b[0;34m.\u001b[0m\u001b[0mpredict\u001b[0m\u001b[0;34m(\u001b[0m\u001b[0mX_test\u001b[0m\u001b[0;34m)\u001b[0m\u001b[0;34m\u001b[0m\u001b[0;34m\u001b[0m\u001b[0m\n\u001b[1;32m      7\u001b[0m     \u001b[0mcm\u001b[0m \u001b[0;34m=\u001b[0m \u001b[0mconfusion_matrix\u001b[0m\u001b[0;34m(\u001b[0m\u001b[0mY_test\u001b[0m\u001b[0;34m,\u001b[0m \u001b[0mY_pred\u001b[0m\u001b[0;34m)\u001b[0m\u001b[0;34m\u001b[0m\u001b[0;34m\u001b[0m\u001b[0m\n",
            "\u001b[0;32m/usr/local/lib/python3.6/dist-packages/sklearn/ensemble/_forest.py\u001b[0m in \u001b[0;36mfit\u001b[0;34m(self, X, y, sample_weight)\u001b[0m\n\u001b[1;32m    367\u001b[0m             trees = [self._make_estimator(append=False,\n\u001b[1;32m    368\u001b[0m                                           random_state=random_state)\n\u001b[0;32m--> 369\u001b[0;31m                      for i in range(n_more_estimators)]\n\u001b[0m\u001b[1;32m    370\u001b[0m \u001b[0;34m\u001b[0m\u001b[0m\n\u001b[1;32m    371\u001b[0m             \u001b[0;31m# Parallel loop: we prefer the threading backend as the Cython code\u001b[0m\u001b[0;34m\u001b[0m\u001b[0;34m\u001b[0m\u001b[0;34m\u001b[0m\u001b[0m\n",
            "\u001b[0;32m/usr/local/lib/python3.6/dist-packages/sklearn/ensemble/_forest.py\u001b[0m in \u001b[0;36m<listcomp>\u001b[0;34m(.0)\u001b[0m\n\u001b[1;32m    367\u001b[0m             trees = [self._make_estimator(append=False,\n\u001b[1;32m    368\u001b[0m                                           random_state=random_state)\n\u001b[0;32m--> 369\u001b[0;31m                      for i in range(n_more_estimators)]\n\u001b[0m\u001b[1;32m    370\u001b[0m \u001b[0;34m\u001b[0m\u001b[0m\n\u001b[1;32m    371\u001b[0m             \u001b[0;31m# Parallel loop: we prefer the threading backend as the Cython code\u001b[0m\u001b[0;34m\u001b[0m\u001b[0;34m\u001b[0m\u001b[0;34m\u001b[0m\u001b[0m\n",
            "\u001b[0;32m/usr/local/lib/python3.6/dist-packages/sklearn/ensemble/_base.py\u001b[0m in \u001b[0;36m_make_estimator\u001b[0;34m(self, append, random_state)\u001b[0m\n\u001b[1;32m    150\u001b[0m \u001b[0;34m\u001b[0m\u001b[0m\n\u001b[1;32m    151\u001b[0m         \u001b[0;32mif\u001b[0m \u001b[0mrandom_state\u001b[0m \u001b[0;32mis\u001b[0m \u001b[0;32mnot\u001b[0m \u001b[0;32mNone\u001b[0m\u001b[0;34m:\u001b[0m\u001b[0;34m\u001b[0m\u001b[0;34m\u001b[0m\u001b[0m\n\u001b[0;32m--> 152\u001b[0;31m             \u001b[0m_set_random_states\u001b[0m\u001b[0;34m(\u001b[0m\u001b[0mestimator\u001b[0m\u001b[0;34m,\u001b[0m \u001b[0mrandom_state\u001b[0m\u001b[0;34m)\u001b[0m\u001b[0;34m\u001b[0m\u001b[0;34m\u001b[0m\u001b[0m\n\u001b[0m\u001b[1;32m    153\u001b[0m \u001b[0;34m\u001b[0m\u001b[0m\n\u001b[1;32m    154\u001b[0m         \u001b[0;32mif\u001b[0m \u001b[0mappend\u001b[0m\u001b[0;34m:\u001b[0m\u001b[0;34m\u001b[0m\u001b[0;34m\u001b[0m\u001b[0m\n",
            "\u001b[0;32m/usr/local/lib/python3.6/dist-packages/sklearn/ensemble/_base.py\u001b[0m in \u001b[0;36m_set_random_states\u001b[0;34m(estimator, random_state)\u001b[0m\n\u001b[1;32m     73\u001b[0m \u001b[0;34m\u001b[0m\u001b[0m\n\u001b[1;32m     74\u001b[0m     \u001b[0;32mif\u001b[0m \u001b[0mto_set\u001b[0m\u001b[0;34m:\u001b[0m\u001b[0;34m\u001b[0m\u001b[0;34m\u001b[0m\u001b[0m\n\u001b[0;32m---> 75\u001b[0;31m         \u001b[0mestimator\u001b[0m\u001b[0;34m.\u001b[0m\u001b[0mset_params\u001b[0m\u001b[0;34m(\u001b[0m\u001b[0;34m**\u001b[0m\u001b[0mto_set\u001b[0m\u001b[0;34m)\u001b[0m\u001b[0;34m\u001b[0m\u001b[0;34m\u001b[0m\u001b[0m\n\u001b[0m\u001b[1;32m     76\u001b[0m \u001b[0;34m\u001b[0m\u001b[0m\n\u001b[1;32m     77\u001b[0m \u001b[0;34m\u001b[0m\u001b[0m\n",
            "\u001b[0;32m/usr/local/lib/python3.6/dist-packages/sklearn/base.py\u001b[0m in \u001b[0;36mset_params\u001b[0;34m(self, **params)\u001b[0m\n\u001b[1;32m    225\u001b[0m             \u001b[0;31m# Simple optimization to gain speed (inspect is slow)\u001b[0m\u001b[0;34m\u001b[0m\u001b[0;34m\u001b[0m\u001b[0;34m\u001b[0m\u001b[0m\n\u001b[1;32m    226\u001b[0m             \u001b[0;32mreturn\u001b[0m \u001b[0mself\u001b[0m\u001b[0;34m\u001b[0m\u001b[0;34m\u001b[0m\u001b[0m\n\u001b[0;32m--> 227\u001b[0;31m         \u001b[0mvalid_params\u001b[0m \u001b[0;34m=\u001b[0m \u001b[0mself\u001b[0m\u001b[0;34m.\u001b[0m\u001b[0mget_params\u001b[0m\u001b[0;34m(\u001b[0m\u001b[0mdeep\u001b[0m\u001b[0;34m=\u001b[0m\u001b[0;32mTrue\u001b[0m\u001b[0;34m)\u001b[0m\u001b[0;34m\u001b[0m\u001b[0;34m\u001b[0m\u001b[0m\n\u001b[0m\u001b[1;32m    228\u001b[0m \u001b[0;34m\u001b[0m\u001b[0m\n\u001b[1;32m    229\u001b[0m         \u001b[0mnested_params\u001b[0m \u001b[0;34m=\u001b[0m \u001b[0mdefaultdict\u001b[0m\u001b[0;34m(\u001b[0m\u001b[0mdict\u001b[0m\u001b[0;34m)\u001b[0m  \u001b[0;31m# grouped by prefix\u001b[0m\u001b[0;34m\u001b[0m\u001b[0;34m\u001b[0m\u001b[0m\n",
            "\u001b[0;32m/usr/local/lib/python3.6/dist-packages/sklearn/base.py\u001b[0m in \u001b[0;36mget_params\u001b[0;34m(self, deep)\u001b[0m\n\u001b[1;32m    187\u001b[0m         \"\"\"\n\u001b[1;32m    188\u001b[0m         \u001b[0mout\u001b[0m \u001b[0;34m=\u001b[0m \u001b[0mdict\u001b[0m\u001b[0;34m(\u001b[0m\u001b[0;34m)\u001b[0m\u001b[0;34m\u001b[0m\u001b[0;34m\u001b[0m\u001b[0m\n\u001b[0;32m--> 189\u001b[0;31m         \u001b[0;32mfor\u001b[0m \u001b[0mkey\u001b[0m \u001b[0;32min\u001b[0m \u001b[0mself\u001b[0m\u001b[0;34m.\u001b[0m\u001b[0m_get_param_names\u001b[0m\u001b[0;34m(\u001b[0m\u001b[0;34m)\u001b[0m\u001b[0;34m:\u001b[0m\u001b[0;34m\u001b[0m\u001b[0;34m\u001b[0m\u001b[0m\n\u001b[0m\u001b[1;32m    190\u001b[0m             \u001b[0;32mtry\u001b[0m\u001b[0;34m:\u001b[0m\u001b[0;34m\u001b[0m\u001b[0;34m\u001b[0m\u001b[0m\n\u001b[1;32m    191\u001b[0m                 \u001b[0mvalue\u001b[0m \u001b[0;34m=\u001b[0m \u001b[0mgetattr\u001b[0m\u001b[0;34m(\u001b[0m\u001b[0mself\u001b[0m\u001b[0;34m,\u001b[0m \u001b[0mkey\u001b[0m\u001b[0;34m)\u001b[0m\u001b[0;34m\u001b[0m\u001b[0;34m\u001b[0m\u001b[0m\n",
            "\u001b[0;32m/usr/local/lib/python3.6/dist-packages/sklearn/base.py\u001b[0m in \u001b[0;36m_get_param_names\u001b[0;34m(cls)\u001b[0m\n\u001b[1;32m    158\u001b[0m         \u001b[0minit_signature\u001b[0m \u001b[0;34m=\u001b[0m \u001b[0minspect\u001b[0m\u001b[0;34m.\u001b[0m\u001b[0msignature\u001b[0m\u001b[0;34m(\u001b[0m\u001b[0minit\u001b[0m\u001b[0;34m)\u001b[0m\u001b[0;34m\u001b[0m\u001b[0;34m\u001b[0m\u001b[0m\n\u001b[1;32m    159\u001b[0m         \u001b[0;31m# Consider the constructor parameters excluding 'self'\u001b[0m\u001b[0;34m\u001b[0m\u001b[0;34m\u001b[0m\u001b[0;34m\u001b[0m\u001b[0m\n\u001b[0;32m--> 160\u001b[0;31m         parameters = [p for p in init_signature.parameters.values()\n\u001b[0m\u001b[1;32m    161\u001b[0m                       if p.name != 'self' and p.kind != p.VAR_KEYWORD]\n\u001b[1;32m    162\u001b[0m         \u001b[0;32mfor\u001b[0m \u001b[0mp\u001b[0m \u001b[0;32min\u001b[0m \u001b[0mparameters\u001b[0m\u001b[0;34m:\u001b[0m\u001b[0;34m\u001b[0m\u001b[0;34m\u001b[0m\u001b[0m\n",
            "\u001b[0;31mKeyboardInterrupt\u001b[0m: "
          ]
        }
      ]
    },
    {
      "cell_type": "code",
      "metadata": {
        "id": "Dd2yV0iiL5fx",
        "colab_type": "code",
        "colab": {}
      },
      "source": [
        ""
      ],
      "execution_count": 0,
      "outputs": []
    }
  ]
}